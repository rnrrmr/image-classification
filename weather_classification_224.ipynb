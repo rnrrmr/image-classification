{
  "nbformat": 4,
  "nbformat_minor": 0,
  "metadata": {
    "colab": {
      "provenance": [],
      "gpuType": "T4",
      "mount_file_id": "1066znTHpVT9ekAcZ2rWY0v1uHZku9a8B",
      "authorship_tag": "ABX9TyO5NXGdVy7nPccDgGfBOasi",
      "include_colab_link": true
    },
    "kernelspec": {
      "name": "python3",
      "display_name": "Python 3"
    },
    "language_info": {
      "name": "python"
    },
    "accelerator": "GPU"
  },
  "cells": [
    {
      "cell_type": "markdown",
      "metadata": {
        "id": "view-in-github",
        "colab_type": "text"
      },
      "source": [
        "<a href=\"https://colab.research.google.com/github/rnrrmr/image-classification/blob/main/weather_classification_224.ipynb\" target=\"_parent\"><img src=\"https://colab.research.google.com/assets/colab-badge.svg\" alt=\"Open In Colab\"/></a>"
      ]
    },
    {
      "cell_type": "code",
      "execution_count": null,
      "metadata": {
        "id": "qM_ghxQUHJAs"
      },
      "outputs": [],
      "source": [
        "import pandas as pd\n",
        "import matplotlib.pyplot as plt\n",
        "import tensorflow as tf\n",
        "import numpy as np\n",
        "from tensorflow import keras\n",
        "from tensorflow.keras.layers import Dense\n",
        "from tensorflow.keras.preprocessing.image import ImageDataGenerator\n",
        "from tensorflow.keras.models import Model\n",
        "from tensorflow.keras.callbacks import Callback, EarlyStopping"
      ]
    },
    {
      "cell_type": "code",
      "source": [
        "from tensorflow.keras.preprocessing.image import ImageDataGenerator\n",
        "import os\n",
        "import shutil\n",
        "\n",
        "datagen = ImageDataGenerator(\n",
        "    samplewise_center=True,  # set each sample mean to 0\n",
        "    rotation_range=120,  # randomly rotate images in the range (degrees)\n",
        "    width_shift_range=0.25,  # randomly shift images horizontally (fraction of total width)\n",
        "    height_shift_range=0.25,  # randomly shift images vertically (fraction of total height)\n",
        "    validation_split=0.2\n",
        ")\n",
        "\n",
        "# 데이터 디렉토리 경로\n",
        "data_dir = \"/content/drive/MyDrive/weather-dataset/dataset\"\n",
        "batch_size = 32\n",
        "\n",
        "# 테스트 데이터 폴더 생성\n",
        "test_data_dir = \"/content/drive/MyDrive/weather-dataset/test_data\"\n",
        "# os.makedirs(test_data_dir, exist_ok=True) # 만들었음\n",
        "\n",
        "# # 테스트 데이터로 사용할 이미지를 해당 폴더로 복사 또는 이동\n",
        "# class_folders = os.listdir(data_dir)\n",
        "# for class_folder in class_folders:\n",
        "#     class_path = os.path.join(data_dir, class_folder)\n",
        "#     images = os.listdir(class_path)\n",
        "\n",
        "#     # 테스트 데이터로 사용할 이미지를 선택하여 복사 또는 이동\n",
        "#     # 예: 데이터 중 10%를 테스트 데이터로 사용\n",
        "#     num_test_images = int(0.1 * len(images))\n",
        "#     test_images = images[:num_test_images]\n",
        "\n",
        "#     # 테스트 데이터 폴더로 이미지 복사 또는 이동\n",
        "#     for img in test_images:\n",
        "#         src = os.path.join(class_path, img)\n",
        "#         dest = os.path.join(test_data_dir, class_folder, img)\n",
        "#         shutil.copy(src, dest)\n",
        "\n",
        "# 학습용 데이터 로드\n",
        "train_generator = datagen.flow_from_directory(\n",
        "    data_dir,\n",
        "    target_size=(224, 224),  # 이미지 크기를 조정\n",
        "    batch_size=batch_size,\n",
        "    class_mode='categorical',  # 다중 클래스 분류를 위한 설정\n",
        "    subset='training'  # 학습 데이터로 설정\n",
        ")\n",
        "# 검증용 데이터 로드\n",
        "validation_generator = datagen.flow_from_directory(\n",
        "    data_dir,\n",
        "    target_size=(224, 224),\n",
        "    batch_size=batch_size,\n",
        "    class_mode='categorical',\n",
        "    subset='validation'  # 검증 데이터로 설정\n",
        ")"
      ],
      "metadata": {
        "colab": {
          "base_uri": "https://localhost:8080/"
        },
        "id": "LxfqFhDnHeL8",
        "outputId": "1401a4d2-b11c-4ff2-e75e-4914adcaf0f9"
      },
      "execution_count": null,
      "outputs": [
        {
          "output_type": "stream",
          "name": "stdout",
          "text": [
            "Found 5493 images belonging to 11 classes.\n",
            "Found 1369 images belonging to 11 classes.\n"
          ]
        }
      ]
    },
    {
      "cell_type": "code",
      "source": [
        "class_labels = os.listdir(data_dir)\n",
        "print(class_labels)  # 클래스 라벨 확인"
      ],
      "metadata": {
        "colab": {
          "base_uri": "https://localhost:8080/"
        },
        "id": "6khwGl-1INoL",
        "outputId": "aab78b5a-1079-43c9-d6a4-b8cdf644f2e5"
      },
      "execution_count": null,
      "outputs": [
        {
          "output_type": "stream",
          "name": "stdout",
          "text": [
            "['dew', 'fogsmog', 'frost', 'glaze', 'hail', 'lightning', 'rain', 'rainbow', 'rime', 'sandstorm', 'snow']\n"
          ]
        }
      ]
    },
    {
      "cell_type": "code",
      "source": [
        "# 모델 정의\n",
        "model = keras.Sequential(name=\"weather-classification\")\n",
        "\n",
        "# 입력 레이어 (224x224 크기의 RGB 이미지)\n",
        "model.add(keras.layers.Input(shape=(224, 224, 3))) # 채널(색상) 수가 3(RGB)\n",
        "\n",
        "# 컨볼루션 레이어 (첫 번째 블록)\n",
        "model.add(keras.layers.Conv2D(64, (3, 3), activation='relu', padding='same', name='block1_conv1')) # padding 'same'으로 설정하면 입력 이미지와 출력 이미지의 크기를 동일하게 유지하려고 시도\n",
        "model.add(keras.layers.Conv2D(64, (3, 3), activation='relu', padding='same', name='block1_conv2')) # 이미지 가장자리에 있는 정보를 보존하는 데 도움\n",
        "model.add(keras.layers.MaxPooling2D((2, 2), strides=(2, 2), name='block1_pool')) # stride 높이와 너비에 따른 컨볼루션의 보폭을 지정하는 정수 또는 2개의 정수로 구성된 튜플\n",
        "\n",
        "# 컨볼루션 레이어 (두 번째 블록)\n",
        "model.add(keras.layers.Conv2D(128, (3, 3), activation='relu', padding='same', name='block2_conv1'))\n",
        "model.add(keras.layers.Conv2D(128, (3, 3), activation='relu', padding='same', name='block2_conv2'))\n",
        "model.add(keras.layers.MaxPooling2D((2, 2), strides=(2, 2), name='block2_pool'))  # 맥스 풀링 레이어는 특성 맵을 다운샘플링하여 공간 차원을 줄입니다. 이 과정은 이미지 크기를 반으로 줄입니다\n",
        "\n",
        "# 컨볼루션 레이어 (세 번째 블록)\n",
        "model.add(keras.layers.Conv2D(256, (3, 3), activation='relu', padding='same', name='block3_conv1'))\n",
        "model.add(keras.layers.Conv2D(256, (3, 3), activation='relu', padding='same', name='block3_conv2'))\n",
        "model.add(keras.layers.Conv2D(256, (3, 3), activation='relu', padding='same', name='block3_conv3'))\n",
        "model.add(keras.layers.MaxPooling2D((2, 2), strides=(2, 2), name='block3_pool'))  # VGG16 아키텍처의 특징, 블록마다 컨볼루션 레이어로 특징을 추출하고 맥스 풀링 레이어로 공간 크기를 줄여 깊은 특성을 학습\n",
        "\n",
        "# 컨볼루션 레이어 (네 번째 블록)\n",
        "model.add(keras.layers.Conv2D(512, (3, 3), activation='relu', padding='same', name='block4_conv1'))\n",
        "model.add(keras.layers.Conv2D(512, (3, 3), activation='relu', padding='same', name='block4_conv2'))\n",
        "model.add(keras.layers.Conv2D(512, (3, 3), activation='relu', padding='same', name='block4_conv3'))\n",
        "model.add(keras.layers.MaxPooling2D((2, 2), strides=(2, 2), name='block4_pool'))\n",
        "\n",
        "# 컨볼루션 레이어 (다섯 번째 블록)\n",
        "model.add(keras.layers.Conv2D(512, (3, 3), activation='relu', padding='same', name='block5_conv1'))\n",
        "model.add(keras.layers.Conv2D(512, (3, 3), activation='relu', padding='same', name='block5_conv2'))\n",
        "model.add(keras.layers.Conv2D(512, (3, 3), activation='relu', padding='same', name='block5_conv3'))\n",
        "model.add(keras.layers.MaxPooling2D((2, 2), strides=(2, 2), name='block5_pool'))\n",
        "\n",
        "# 글로벌 평균 풀링 레이어\n",
        "model.add(keras.layers.GlobalAveragePooling2D())\n",
        "\n",
        "# 완전 연결 레이어 (분류 레이어)\n",
        "model.add(keras.layers.Dense(11, activation='softmax'))\n",
        "\n",
        "# 모델 컴파일\n",
        "model.compile(optimizer='adam', loss='categorical_crossentropy', metrics=['accuracy'])\n",
        "\n",
        "# 모델 구조 요약\n",
        "model.summary()\n"
      ],
      "metadata": {
        "colab": {
          "base_uri": "https://localhost:8080/"
        },
        "id": "Dm7GmnWFIUjD",
        "outputId": "70b6dcd7-51b9-472b-be42-56e302edd7fe"
      },
      "execution_count": null,
      "outputs": [
        {
          "output_type": "stream",
          "name": "stdout",
          "text": [
            "Model: \"weather-classification\"\n",
            "_________________________________________________________________\n",
            " Layer (type)                Output Shape              Param #   \n",
            "=================================================================\n",
            " block1_conv1 (Conv2D)       (None, 224, 224, 64)      1792      \n",
            "                                                                 \n",
            " block1_conv2 (Conv2D)       (None, 224, 224, 64)      36928     \n",
            "                                                                 \n",
            " block1_pool (MaxPooling2D)  (None, 112, 112, 64)      0         \n",
            "                                                                 \n",
            " block2_conv1 (Conv2D)       (None, 112, 112, 128)     73856     \n",
            "                                                                 \n",
            " block2_conv2 (Conv2D)       (None, 112, 112, 128)     147584    \n",
            "                                                                 \n",
            " block2_pool (MaxPooling2D)  (None, 56, 56, 128)       0         \n",
            "                                                                 \n",
            " block3_conv1 (Conv2D)       (None, 56, 56, 256)       295168    \n",
            "                                                                 \n",
            " block3_conv2 (Conv2D)       (None, 56, 56, 256)       590080    \n",
            "                                                                 \n",
            " block3_conv3 (Conv2D)       (None, 56, 56, 256)       590080    \n",
            "                                                                 \n",
            " block3_pool (MaxPooling2D)  (None, 28, 28, 256)       0         \n",
            "                                                                 \n",
            " block4_conv1 (Conv2D)       (None, 28, 28, 512)       1180160   \n",
            "                                                                 \n",
            " block4_conv2 (Conv2D)       (None, 28, 28, 512)       2359808   \n",
            "                                                                 \n",
            " block4_conv3 (Conv2D)       (None, 28, 28, 512)       2359808   \n",
            "                                                                 \n",
            " block4_pool (MaxPooling2D)  (None, 14, 14, 512)       0         \n",
            "                                                                 \n",
            " block5_conv1 (Conv2D)       (None, 14, 14, 512)       2359808   \n",
            "                                                                 \n",
            " block5_conv2 (Conv2D)       (None, 14, 14, 512)       2359808   \n",
            "                                                                 \n",
            " block5_conv3 (Conv2D)       (None, 14, 14, 512)       2359808   \n",
            "                                                                 \n",
            " block5_pool (MaxPooling2D)  (None, 7, 7, 512)         0         \n",
            "                                                                 \n",
            " global_average_pooling2d_1   (None, 512)              0         \n",
            " (GlobalAveragePooling2D)                                        \n",
            "                                                                 \n",
            " dense_1 (Dense)             (None, 11)                5643      \n",
            "                                                                 \n",
            "=================================================================\n",
            "Total params: 14,720,331\n",
            "Trainable params: 14,720,331\n",
            "Non-trainable params: 0\n",
            "_________________________________________________________________\n"
          ]
        }
      ]
    },
    {
      "cell_type": "code",
      "source": [
        "model.compile(loss = 'categorical_crossentropy',optimizer='Adam',metrics=['accuracy'])"
      ],
      "metadata": {
        "id": "VSJIibmhIY5c"
      },
      "execution_count": null,
      "outputs": []
    },
    {
      "cell_type": "code",
      "source": [
        "my_callbacks  = [EarlyStopping(monitor='val_loss',\n",
        "                              min_delta=0,\n",
        "                              patience=2,\n",
        "                              mode='auto')]"
      ],
      "metadata": {
        "id": "orVdjkGLIgTT"
      },
      "execution_count": null,
      "outputs": []
    },
    {
      "cell_type": "code",
      "source": [
        "history = model.fit(\n",
        "    train_generator,\n",
        "    validation_data=validation_generator,\n",
        "    epochs=20,\n",
        "    callbacks=my_callbacks,\n",
        "    verbose=1\n",
        ")"
      ],
      "metadata": {
        "colab": {
          "base_uri": "https://localhost:8080/"
        },
        "id": "WwyFz596IhbD",
        "outputId": "acae085f-db0a-4fc9-8ec2-90d01600e318"
      },
      "execution_count": null,
      "outputs": [
        {
          "output_type": "stream",
          "name": "stdout",
          "text": [
            "Epoch 1/20\n",
            "172/172 [==============================] - 1024s 6s/step - loss: 5.4440 - accuracy: 0.1830 - val_loss: 1.8749 - val_accuracy: 0.2966\n",
            "Epoch 2/20\n",
            "172/172 [==============================] - 135s 782ms/step - loss: 1.8267 - accuracy: 0.3308 - val_loss: 1.6667 - val_accuracy: 0.3996\n",
            "Epoch 3/20\n",
            "172/172 [==============================] - 138s 804ms/step - loss: 1.6309 - accuracy: 0.4103 - val_loss: 1.6527 - val_accuracy: 0.4368\n",
            "Epoch 4/20\n",
            "172/172 [==============================] - 153s 889ms/step - loss: 1.5535 - accuracy: 0.4449 - val_loss: 1.5719 - val_accuracy: 0.4244\n",
            "Epoch 5/20\n",
            "172/172 [==============================] - 136s 791ms/step - loss: 1.4722 - accuracy: 0.4722 - val_loss: 1.4188 - val_accuracy: 0.4989\n",
            "Epoch 6/20\n",
            "172/172 [==============================] - 154s 893ms/step - loss: 1.4087 - accuracy: 0.4990 - val_loss: 1.4286 - val_accuracy: 0.5018\n",
            "Epoch 7/20\n",
            "172/172 [==============================] - 135s 785ms/step - loss: 1.8148 - accuracy: 0.3894 - val_loss: 1.8161 - val_accuracy: 0.4690\n"
          ]
        }
      ]
    },
    {
      "cell_type": "code",
      "source": [
        "# 학습 과정 시각화\n",
        "plt.figure(figsize=(12, 4))\n",
        "\n",
        "# 정확도 그래프\n",
        "plt.subplot(1, 2, 1)\n",
        "plt.plot(history.history['accuracy'], label='Train Accuracy')\n",
        "plt.plot(history.history['val_accuracy'], label='Validation Accuracy')\n",
        "plt.title('Training and Validation Accuracy')\n",
        "plt.xlabel('Epoch')\n",
        "plt.ylabel('Accuracy')\n",
        "plt.legend()\n",
        "\n",
        "# 손실값 그래프\n",
        "plt.subplot(1, 2, 2)\n",
        "plt.plot(history.history['loss'], label='Train Loss')\n",
        "plt.plot(history.history['val_loss'], label='Validation Loss')\n",
        "plt.title('Training and Validation Loss')\n",
        "plt.xlabel('Epoch')\n",
        "plt.ylabel('Loss')\n",
        "plt.legend()\n",
        "\n",
        "plt.show()"
      ],
      "metadata": {
        "colab": {
          "base_uri": "https://localhost:8080/",
          "height": 410
        },
        "id": "x5NUGZ2WIpSs",
        "outputId": "fc39ecb1-edfd-4752-9db9-f08dd037daf3"
      },
      "execution_count": null,
      "outputs": [
        {
          "output_type": "display_data",
          "data": {
            "text/plain": [
              "<Figure size 1200x400 with 2 Axes>"
            ],
            "image/png": "[encoded data removed]"
          },
          "metadata": {}
        }
      ]
    },
    {
      "cell_type": "code",
      "source": [
        "import matplotlib.pyplot as plt\n",
        "import matplotlib.image as mpimg\n",
        "from tensorflow.keras.preprocessing import image as image_utils\n",
        "from tensorflow.keras.applications.imagenet_utils import preprocess_input\n",
        "\n",
        "def show_image(image_path):\n",
        "    image = mpimg.imread(image_path)\n",
        "    plt.imshow(image)\n",
        "\n",
        "def make_predictions(image_path):\n",
        "    # 이미지 불러오기 및 전처리\n",
        "    image = image_utils.load_img(image_path, target_size=(224, 224))\n",
        "    image = image_utils.img_to_array(image)\n",
        "    image = image.reshape(1, 224, 224, 3)\n",
        "    image = preprocess_input(image)\n",
        "\n",
        "    # 모델로 예측 수행\n",
        "    preds = model.predict(image)\n",
        "\n",
        "    # 클래스 인덱스와 예측 확률 추출\n",
        "    predicted_class_index = np.argmax(preds)\n",
        "\n",
        "    # 클래스명 가져오기\n",
        "    predicted_class = class_labels[predicted_class_index]\n",
        "\n",
        "    # 이미지 시각화\n",
        "    show_image(image_path)\n",
        "\n",
        "    # 예측 결과 출력\n",
        "    print(f\"Predicted class index: {predicted_class_index}\")\n",
        "    print(f\"Predicted class name: {predicted_class}\")\n",
        "    print(f\"Probability: {preds[0][predicted_class_index]*100:.3f}%\")\n",
        "\n",
        "    return preds\n"
      ],
      "metadata": {
        "id": "6LfBy_WZIq-7"
      },
      "execution_count": null,
      "outputs": []
    },
    {
      "cell_type": "code",
      "source": [
        "# 테스트용 데이터 로드\n",
        "test_datagen = ImageDataGenerator(rescale=1.0/255.0)  # 이미지 값을 [0, 1] 범위로 정규화\n",
        "\n",
        "test_data_dir = \"/content/drive/MyDrive/weather-dataset/test_data\"\n",
        "\n",
        "test_generator = test_datagen.flow_from_directory(\n",
        "    test_data_dir,\n",
        "    target_size=(160, 160),  # 이미지 크기를 조정 (학습과 동일한 크기로 설정)\n",
        "    batch_size=batch_size,  # 배치 크기는 학습과 동일하게 설정\n",
        "    class_mode='categorical',  # 다중 클래스 분류\n",
        ")\n",
        "\n",
        "# 모델 평가\n",
        "test_loss, test_accuracy = model.evaluate(test_generator, verbose=1)\n",
        "print(\"Test accuracy:\", test_accuracy)\n"
      ],
      "metadata": {
        "colab": {
          "base_uri": "https://localhost:8080/"
        },
        "id": "X7lMSb5dWAIQ",
        "outputId": "f40e6a62-eddc-4e53-ef62-6257a023c901"
      },
      "execution_count": null,
      "outputs": [
        {
          "output_type": "stream",
          "name": "stdout",
          "text": [
            "Found 1064 images belonging to 11 classes.\n",
            "34/34 [==============================] - 136s 4s/step - loss: 5.0456 - accuracy: 0.0648\n",
            "Test accuracy: 0.0648496225476265\n"
          ]
        }
      ]
    },
    {
      "cell_type": "code",
      "source": [
        "make_predictions(\"/content/drive/MyDrive/weather-dataset/weather_sample/image2.jpg\")"
      ],
      "metadata": {
        "id": "0tU5r_rRWAkz"
      },
      "execution_count": null,
      "outputs": []
    },
    {
      "cell_type": "code",
      "source": [
        "make_predictions(\"/content/drive/MyDrive/weather-dataset/weather_sample/image9.jpg\")"
      ],
      "metadata": {
        "id": "WAlNvySWXfUr"
      },
      "execution_count": null,
      "outputs": []
    },
    {
      "cell_type": "code",
      "source": [
        "make_predictions(\"/content/drive/MyDrive/weather-dataset/weather_sample/image11.jpg\")"
      ],
      "metadata": {
        "id": "UOjnLdvJXi5B"
      },
      "execution_count": null,
      "outputs": []
    },
    {
      "cell_type": "code",
      "source": [
        "make_predictions(\"/content/drive/MyDrive/weather-dataset/weather_sample/image5.jpg\")"
      ],
      "metadata": {
        "id": "58DXt82AXlY5"
      },
      "execution_count": null,
      "outputs": []
    },
    {
      "cell_type": "code",
      "source": [],
      "metadata": {
        "id": "xHqqt_jcXn7S"
      },
      "execution_count": null,
      "outputs": []
    }
  ]
}